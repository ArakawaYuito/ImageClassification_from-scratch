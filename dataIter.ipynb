{
 "cells": [
  {
   "cell_type": "code",
   "execution_count": 1,
   "id": "eccf1952",
   "metadata": {},
   "outputs": [],
   "source": [
    "import h5py\n",
    "import numpy as np"
   ]
  },
  {
   "cell_type": "code",
   "execution_count": 6,
   "id": "358e7d7b",
   "metadata": {},
   "outputs": [],
   "source": [
    "class dataIter(object):\n",
    "    def __init__(self, batch_size=1, dtype='train', path='data/input_data.hdf5'):\n",
    "        self.current = 0\n",
    "        self.dtype=dtype\n",
    "        self.path=path\n",
    "        self.batch_size=batch_size\n",
    "        self.size = self.hdf_len(self.dtype, path)\n",
    "        self.idx = np.arange(self.size)\n",
    "        np.random.shuffle(self.idx)\n",
    "        \n",
    "        if self.dtype=='train':\n",
    "            self.iter_num = np.ceil(self.size / self.batch_size).astype(np.int32)\n",
    "        else:\n",
    "            self.iter_num =1\n",
    "\n",
    "    def __iter__(self):\n",
    "        return self\n",
    "\n",
    "    def __next__(self):\n",
    "        if self.current == self.iter_num:\n",
    "            raise StopIteration()\n",
    "        \n",
    "        if self.dtype=='train':\n",
    "            mask = np.sort(self.idx[self.batch_size*self.current :self.batch_size*(self.current+1)])\n",
    "            X_train, y_train=self.load_hdf(self.dtype, self.path, mask)\n",
    "        else:\n",
    "            X_train, y_train=self.load_hdf(self.dtype, self.path)\n",
    "\n",
    "        self.current += 1\n",
    "        return X_train, y_train\n",
    "    \n",
    "    def hdf_len(self, dtype, path):\n",
    "        with h5py.File(path, 'r') as f:\n",
    "            len=f[f'X_{dtype}'].shape[0]\n",
    "        return len\n",
    "\n",
    "    def load_hdf(self, dtype, path, mask=None):\n",
    "        with h5py.File(path, 'r') as f:\n",
    "            if dtype=='train':\n",
    "                X=f[f'X_{dtype}'][mask]\n",
    "                y=f[f'y_{dtype}'][mask]\n",
    "            else:\n",
    "                X=f[f'X_{dtype}'][:]\n",
    "                y=f[f'y_{dtype}'][:]\n",
    "            scaled_X=self.MinMaxScaler(X)\n",
    "            scaled_y=self.MinMaxScaler(y)\n",
    "        return scaled_X, scaled_y\n",
    "            \n",
    "    def MinMaxScaler(self, data):\n",
    "        scaled_data= (data - data.min()) / (data.max()- data.min())\n",
    "        scaled_data=scaled_data.astype('float32')\n",
    "        return scaled_data\n",
    "        "
   ]
  },
  {
   "cell_type": "code",
   "execution_count": 8,
   "id": "ac7ed231",
   "metadata": {},
   "outputs": [
    {
     "data": {
      "text/plain": [
       "((10000, 1, 28, 28), (10000, 10))"
      ]
     },
     "execution_count": 8,
     "metadata": {},
     "output_type": "execute_result"
    }
   ],
   "source": [
    "test=dataIter(dtype='test', path='data/auged_input_data.hdf5')\n",
    "X_test, y_test=next(test)\n",
    "X_test.shape, y_test.shape"
   ]
  },
  {
   "cell_type": "code",
   "execution_count": null,
   "id": "7b0198a0",
   "metadata": {
    "scrolled": true
   },
   "outputs": [],
   "source": [
    "epochs=3\n",
    "test=dataIter(dtype='test', path='data/input_data.hdf5')\n",
    "X_test, y_test=next(test)\n",
    "for epoch in range(epochs):\n",
    "    print(\"epoch=%s\"%epoch)\n",
    "    trainer=dataIter(batch_size = 32, dtype='train', path='data/auged_input_data.hdf5')\n",
    "\n",
    "    for X_train, y_train in trainer:\n",
    "        \"\"\"\n",
    "        ランダムなミニバッチを順番に取り出す\n",
    "        \"\"\"\n",
    "        print(y_train.shape)"
   ]
  },
  {
   "cell_type": "code",
   "execution_count": 12,
   "id": "54939e84",
   "metadata": {},
   "outputs": [
    {
     "data": {
      "text/plain": [
       "37500"
      ]
     },
     "execution_count": 12,
     "metadata": {},
     "output_type": "execute_result"
    }
   ],
   "source": [
    "trainer.iter_num"
   ]
  },
  {
   "cell_type": "code",
   "execution_count": null,
   "id": "4d9527be",
   "metadata": {},
   "outputs": [],
   "source": []
  }
 ],
 "metadata": {
  "kernelspec": {
   "display_name": "jdla",
   "language": "python",
   "name": "jdla"
  },
  "language_info": {
   "codemirror_mode": {
    "name": "ipython",
    "version": 3
   },
   "file_extension": ".py",
   "mimetype": "text/x-python",
   "name": "python",
   "nbconvert_exporter": "python",
   "pygments_lexer": "ipython3",
   "version": "3.9.18"
  },
  "toc": {
   "base_numbering": 1,
   "nav_menu": {},
   "number_sections": true,
   "sideBar": true,
   "skip_h1_title": false,
   "title_cell": "Table of Contents",
   "title_sidebar": "Contents",
   "toc_cell": false,
   "toc_position": {},
   "toc_section_display": true,
   "toc_window_display": false
  }
 },
 "nbformat": 4,
 "nbformat_minor": 5
}
